{
 "cells": [
  {
   "cell_type": "code",
   "execution_count": 156,
   "metadata": {},
   "outputs": [],
   "source": [
    "import tensorflow as tf\n",
    "import numpy as np\n",
    "import matplotlib.pyplot as plt\n",
    "import cv2\n",
    "import random\n",
    "\n",
    "# Load the MNIST dataset\n",
    "mnist = tf.keras.datasets.mnist\n",
    "(x_train, y_train), (x_test, y_test) = mnist.load_data()\n",
    "y_train = np.expand_dims(y_train, -1)\n",
    "y_test = np.expand_dims(y_test, -1)\n",
    "\n",
    "def generate_random_rgb():\n",
    "    return (random.randint(0, 255), random.randint(0, 255), random.randint(0, 255))\n",
    "\n",
    "random.seed(3)\n",
    "rgb_dict_with_function = {i: generate_random_rgb() for i in range(10)}"
   ]
  },
  {
   "cell_type": "code",
   "execution_count": 148,
   "metadata": {},
   "outputs": [],
   "source": [
    "def find_bbox(image, \n",
    "              topleft_bottomright_coordinates=True):\n",
    "    # Find the non-zero pixels\n",
    "    coords = np.column_stack(np.where(image > 0)).astype(float)\n",
    "    coords[:, 0] = coords[:, 0].astype(np.float32) / image.shape[0]\n",
    "    coords[:, 1] = coords[:, 1] / image.shape[1]\n",
    "    # Find the top_left bottom_right bounding box coordinates\n",
    "    x_min, y_min = coords.min(axis=0)\n",
    "    x_max, y_max = coords.max(axis=0)\n",
    "    \n",
    "\n",
    "    # return specified label-type (top-left, bottom-right coordinates) \n",
    "    if topleft_bottomright_coordinates:\n",
    "        return np.array([x_min,\n",
    "                         y_min,\n",
    "                         x_max,\n",
    "                         y_max])\n",
    "    # (center-coordinate, width, height)\n",
    "    else:\n",
    "        # Find center, width, and height bounding box coordinates\n",
    "        x_center = (x_min + x_max) / 2\n",
    "        y_center = (y_min + y_max) / 2\n",
    "        width = x_max - x_min\n",
    "        height = y_max - y_min\n",
    "        return np.array([x_center,\n",
    "                         y_center,\n",
    "                         width,\n",
    "                         height])\n",
    "\n",
    "def add_bbox_to_image(image, \n",
    "                      label, \n",
    "                      label_color_map, \n",
    "                      topleft_bottomright_coordinates=True):\n",
    "    # retrieve rectangle coordinates\n",
    "    if topleft_bottomright_coordinates:\n",
    "        x_min, y_min, x_max, y_max = label[1:]\n",
    "    else:\n",
    "        x_center, y_center, width, height = label[1:]\n",
    "        x_min = x_center - width / 2\n",
    "        y_min = y_center - height / 2\n",
    "        x_max = x_center + width / 2\n",
    "        y_max = y_center + height / 2\n",
    "    # Upscale from normalized coordinates\n",
    "    x_min = int(np.floor(x_min * image.shape[0]))\n",
    "    y_min = int(np.floor(y_min * image.shape[1]))\n",
    "    x_max = int(np.ceil(x_max * image.shape[0]))\n",
    "    y_max = int(np.ceil(y_max * image.shape[1]))\n",
    "\n",
    "    image = np.stack([image, image, image], axis=-1)  # Convert to RGB\n",
    "    image_with_bbox = cv2.rectangle(image, \n",
    "                                    (y_min, x_min), \n",
    "                                    (y_max, x_max),\n",
    "                                    color=label_color_map[label[0]], \n",
    "                                    thickness=1)\n",
    "    # Calculate normalized coordinates\n",
    "    return image_with_bbox\n",
    "\n",
    "def plot_mnist_images_with_bbox(images, \n",
    "                                labels, \n",
    "                                label_color_map, \n",
    "                                num_rows,\n",
    "                                num_cols,\n",
    "                                topleft_bottomright_coordinates=True):\n",
    "    \n",
    "    plt.figure(figsize=(10, 4))\n",
    "    for i in range(10):\n",
    "        plt.subplot(2, 5, i + 1)\n",
    "        plt.xticks([])\n",
    "        plt.yticks([])\n",
    "        plt.grid(False)\n",
    "        # find the index of the first example of current i in data \n",
    "        index = np.where(y_train_bboxes[:, 0] == i)[0][0]\n",
    "\n",
    "        image_with_bbox = add_bbox_to_image(images[index],\n",
    "                                            labels[index],\n",
    "                                            label_color_map,\n",
    "                                            topleft_bottomright_coordinates=topleft_bottomright_coordinates)\n",
    "        plt.imshow(image_with_bbox)\n",
    "        plt.xlabel(i)\n",
    "    plt.show()\n"
   ]
  },
  {
   "cell_type": "code",
   "execution_count": null,
   "metadata": {},
   "outputs": [],
   "source": [
    "x_train_bboxes = []\n",
    "for image in x_train:\n",
    "    x_train_bboxes.append(find_bbox(image))\n",
    "x_train_bboxes = np.array(x_train_bboxes)\n",
    "\n",
    "y_train_bboxes = np.hstack([y_train, x_train_bboxes])"
   ]
  },
  {
   "cell_type": "code",
   "execution_count": 157,
   "metadata": {},
   "outputs": [
    {
     "data": {
      "image/png": "[encoded data removed]",
      "text/plain": [
       "<Figure size 1000x400 with 10 Axes>"
      ]
     },
     "metadata": {},
     "output_type": "display_data"
    }
   ],
   "source": [
    "plot_mnist_images_with_bbox(x_train,\n",
    "                            y_train_bboxes,\n",
    "                            label_color_map=rgb_dict_with_function,\n",
    "                            num_rows=2,\n",
    "                            num_cols=5)"
   ]
  },
  {
   "cell_type": "code",
   "execution_count": null,
   "metadata": {},
   "outputs": [],
   "source": []
  }
 ],
 "metadata": {
  "kernelspec": {
   "display_name": "Python 3",
   "language": "python",
   "name": "python3"
  },
  "language_info": {
   "codemirror_mode": {
    "name": "ipython",
    "version": 3
   },
   "file_extension": ".py",
   "mimetype": "text/x-python",
   "name": "python",
   "nbconvert_exporter": "python",
   "pygments_lexer": "ipython3",
   "version": "3.12.4"
  }
 },
 "nbformat": 4,
 "nbformat_minor": 2
}
